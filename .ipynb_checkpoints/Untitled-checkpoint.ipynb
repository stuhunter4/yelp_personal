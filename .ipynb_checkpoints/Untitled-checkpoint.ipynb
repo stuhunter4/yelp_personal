{
 "cells": [
  {
   "cell_type": "code",
   "execution_count": 1,
   "metadata": {},
   "outputs": [],
   "source": [
    "import pandas as pd"
   ]
  },
  {
   "cell_type": "code",
   "execution_count": 2,
   "metadata": {},
   "outputs": [],
   "source": [
    "df = pd.read_csv(\"FremontCA_Restaurants_17_02_2021.csv\")"
   ]
  },
  {
   "cell_type": "code",
   "execution_count": 5,
   "metadata": {},
   "outputs": [
    {
     "data": {
      "text/plain": [
       "array(['Afghan', 'American (New)', 'American (Traditional)',\n",
       "       'Asian Fusion', 'Bakeries', 'Barbeque', 'Bars',\n",
       "       'Breakfast & Brunch', 'Bubble Tea', 'Buffets', 'Burgers', 'Cafes',\n",
       "       'Cajun/Creole', 'Chicken Shop', 'Chicken Wings', 'Chinese',\n",
       "       'Coffee & Tea', 'Creperies', 'Delis', 'Desserts', 'Dim Sum',\n",
       "       'Diners', 'Donuts', 'Fast Food', 'Filipino', 'French', 'Greek',\n",
       "       'Halal', 'Hot Dogs', 'Hot Pot', 'Indian', 'Italian', 'Japanese',\n",
       "       'Korean', 'Malaysian', 'Meat Shops', 'Mediterranean', 'Mexican',\n",
       "       'Middle Eastern', 'Modern European', 'Pizza', 'Ramen', 'Seafood',\n",
       "       'Singaporean', 'Steakhouses', 'Sushi Bars', 'Tacos', 'Taiwanese',\n",
       "       'Tapas Bars', 'Teppanyaki', 'Thai', 'Turkish', 'Vegetarian',\n",
       "       'Vietnamese'], dtype=object)"
      ]
     },
     "execution_count": 5,
     "metadata": {},
     "output_type": "execute_result"
    }
   ],
   "source": [
    "df.sort_values(\"categories\", axis = 0, ascending = True, \n",
    "                 inplace = True)\n",
    "df[\"categories\"].unique()"
   ]
  },
  {
   "cell_type": "code",
   "execution_count": 6,
   "metadata": {},
   "outputs": [
    {
     "data": {
      "text/plain": [
       "array(['Fremont', 'Hayward', 'Los Altos', 'Milpitas', 'Mountain View',\n",
       "       'Newark', 'Palo Alto', 'Pleasanton', 'San Jose', 'San Lorenzo',\n",
       "       'Santa Clara', 'Sunnyvale', 'Union City'], dtype=object)"
      ]
     },
     "execution_count": 6,
     "metadata": {},
     "output_type": "execute_result"
    }
   ],
   "source": [
    "df.sort_values(\"city\", axis = 0, ascending = True, \n",
    "                 inplace = True)\n",
    "df[\"city\"].unique()"
   ]
  },
  {
   "cell_type": "code",
   "execution_count": null,
   "metadata": {},
   "outputs": [],
   "source": []
  }
 ],
 "metadata": {
  "kernelspec": {
   "display_name": "Python 3",
   "language": "python",
   "name": "python3"
  },
  "language_info": {
   "codemirror_mode": {
    "name": "ipython",
    "version": 3
   },
   "file_extension": ".py",
   "mimetype": "text/x-python",
   "name": "python",
   "nbconvert_exporter": "python",
   "pygments_lexer": "ipython3",
   "version": "3.8.3"
  }
 },
 "nbformat": 4,
 "nbformat_minor": 4
}
